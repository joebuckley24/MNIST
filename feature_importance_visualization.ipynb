{
 "cells": [
  {
   "cell_type": "code",
   "execution_count": null,
   "metadata": {},
   "outputs": [],
   "source": [
    "%matplotlib inline\n",
    "\n",
    "# python modules\n",
    "from os.path import join\n",
    "from sklearn.neural_network import MLPClassifier\n",
    "import matplotlib.pyplot as plt\n",
    "\n",
    "# my code\n",
    "from download import data_exists, download\n",
    "from parse import parse_labels, parse_images\n",
    "from render import browse\n",
    "from preprocess import process_images, process_labels"
   ]
  },
  {
   "cell_type": "code",
   "execution_count": null,
   "metadata": {},
   "outputs": [],
   "source": [
    "#global constants\n",
    "DATA_FOLDER_NAME = \"data\"\n",
    "URL_BASE = \"http://yann.lecun.com/exdb/mnist/\"\n",
    "FILES = {\n",
    "    \"train_labels\": \"train-labels-idx1-ubyte.gz\", \n",
    "    \"test_labels\": \"t10k-labels-idx1-ubyte.gz\", \n",
    "    \"train_images\": \"train-images-idx3-ubyte.gz\", \n",
    "    \"test_images\": \"t10k-images-idx3-ubyte.gz\"\n",
    "}"
   ]
  },
  {
   "cell_type": "code",
   "execution_count": null,
   "metadata": {},
   "outputs": [],
   "source": [
    "if not data_exists(DATA_FOLDER_NAME):\n",
    "    download(URL_BASE, FILES.values(), DATA_FOLDER_NAME)"
   ]
  },
  {
   "cell_type": "code",
   "execution_count": null,
   "metadata": {},
   "outputs": [],
   "source": [
    "#make paths\n",
    "train_labels_path = join(DATA_FOLDER_NAME, FILES[\"train_labels\"])\n",
    "test_labels_path = join(DATA_FOLDER_NAME, FILES[\"test_labels\"])\n",
    "train_images_path = join(DATA_FOLDER_NAME, FILES[\"train_images\"])\n",
    "test_images_path = join(DATA_FOLDER_NAME, FILES[\"test_images\"])\n",
    "\n",
    "#parse in as numpy arrarys\n",
    "train_labels = parse_labels(train_labels_path)\n",
    "test_labels = parse_labels(test_labels_path)\n",
    "train_images = parse_images(train_images_path)\n",
    "test_images = parse_images(test_images_path)"
   ]
  },
  {
   "cell_type": "code",
   "execution_count": null,
   "metadata": {},
   "outputs": [],
   "source": [
    "#class labels to strings\n",
    "train_labels = process_labels(train_labels)\n",
    "test_labels = process_labels(test_labels)\n",
    "\n",
    "#images normalized to interval [0,1] and flattened into vector\n",
    "train_images = process_images(train_images)\n",
    "test_images = process_images(test_images)"
   ]
  },
  {
   "cell_type": "code",
   "execution_count": null,
   "metadata": {},
   "outputs": [],
   "source": [
    "model = MLPClassifier(hidden_layer_sizes=(200,), random_state=1, verbose=True)\n",
    "model.fit(train_images, train_labels)\n",
    "\n",
    "print(\"Training set score: {:0.2f}\".format(model.score(train_images, train_labels)))\n",
    "print(\"Test set score: {:0.2f}\".format(model.score(test_images, test_labels)))"
   ]
  },
  {
   "cell_type": "code",
   "execution_count": null,
   "metadata": {},
   "outputs": [],
   "source": [
    "for arr in model.coefs_:\n",
    "    print(arr.shape)\n",
    "    \n",
    "model.coefs_[0]"
   ]
  }
 ],
 "metadata": {
  "kernelspec": {
   "display_name": "Python 3",
   "language": "python",
   "name": "python3"
  },
  "language_info": {
   "codemirror_mode": {
    "name": "ipython",
    "version": 3
   },
   "file_extension": ".py",
   "mimetype": "text/x-python",
   "name": "python",
   "nbconvert_exporter": "python",
   "pygments_lexer": "ipython3",
   "version": "3.8.1"
  }
 },
 "nbformat": 4,
 "nbformat_minor": 4
}
